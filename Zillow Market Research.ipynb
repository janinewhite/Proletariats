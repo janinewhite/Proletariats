{
 "cells": [
  {
   "cell_type": "code",
   "execution_count": 4,
   "metadata": {
    "ExecuteTime": {
     "end_time": "2019-10-04T03:13:54.412590Z",
     "start_time": "2019-10-04T03:13:54.407604Z"
    }
   },
   "outputs": [],
   "source": [
    "#Import Dependencies\n",
    "import requests\n",
    "import pandas as pd\n",
    "import quandl\n",
    "\n",
    "#Get Quandl API key\n",
    "quandl.read_key()\n",
    "api_key = quandl.ApiConfig.api_key"
   ]
  },
  {
   "cell_type": "code",
   "execution_count": 5,
   "metadata": {
    "ExecuteTime": {
     "end_time": "2019-10-04T03:13:55.345202Z",
     "start_time": "2019-10-04T03:13:55.341237Z"
    }
   },
   "outputs": [],
   "source": [
    "def make_url(code):\n",
    "    return f\"https://www.quandl.com/api/v3/datasets/ZILLOW/{code}.json?api_key={api_key}\""
   ]
  },
  {
   "cell_type": "code",
   "execution_count": 6,
   "metadata": {
    "ExecuteTime": {
     "end_time": "2019-10-04T03:13:56.350619Z",
     "start_time": "2019-10-04T03:13:56.331128Z"
    }
   },
   "outputs": [
    {
     "data": {
      "text/html": [
       "<div>\n",
       "<style scoped>\n",
       "    .dataframe tbody tr th:only-of-type {\n",
       "        vertical-align: middle;\n",
       "    }\n",
       "\n",
       "    .dataframe tbody tr th {\n",
       "        vertical-align: top;\n",
       "    }\n",
       "\n",
       "    .dataframe thead th {\n",
       "        text-align: right;\n",
       "    }\n",
       "</style>\n",
       "<table border=\"1\" class=\"dataframe\">\n",
       "  <thead>\n",
       "    <tr style=\"text-align: right;\">\n",
       "      <th></th>\n",
       "      <th>code</th>\n",
       "      <th>description</th>\n",
       "      <th>url</th>\n",
       "    </tr>\n",
       "  </thead>\n",
       "  <tbody>\n",
       "    <tr>\n",
       "      <th>0</th>\n",
       "      <td>C36159_BSICG</td>\n",
       "      <td>median market value of buyer seller index cross</td>\n",
       "      <td>https://www.quandl.com/api/v3/datasets/ZILLOW/...</td>\n",
       "    </tr>\n",
       "    <tr>\n",
       "      <th>1</th>\n",
       "      <td>C36159_BSICT</td>\n",
       "      <td>median market value of buyer seller index cros...</td>\n",
       "      <td>https://www.quandl.com/api/v3/datasets/ZILLOW/...</td>\n",
       "    </tr>\n",
       "    <tr>\n",
       "      <th>2</th>\n",
       "      <td>C36159_DOZ</td>\n",
       "      <td>median market value of days on zillow</td>\n",
       "      <td>https://www.quandl.com/api/v3/datasets/ZILLOW/...</td>\n",
       "    </tr>\n",
       "    <tr>\n",
       "      <th>3</th>\n",
       "      <td>C36159_FOR10K</td>\n",
       "      <td>median market value of foreclosures per 10,000...</td>\n",
       "      <td>https://www.quandl.com/api/v3/datasets/ZILLOW/...</td>\n",
       "    </tr>\n",
       "    <tr>\n",
       "      <th>4</th>\n",
       "      <td>C36159_MDLNSAH</td>\n",
       "      <td>median market value of median daily listings -...</td>\n",
       "      <td>https://www.quandl.com/api/v3/datasets/ZILLOW/...</td>\n",
       "    </tr>\n",
       "    <tr>\n",
       "      <th>5</th>\n",
       "      <td>C36159_MDLSAAH</td>\n",
       "      <td>median market value of median daily listings -...</td>\n",
       "      <td>https://www.quandl.com/api/v3/datasets/ZILLOW/...</td>\n",
       "    </tr>\n",
       "    <tr>\n",
       "      <th>6</th>\n",
       "      <td>C36159_MLNSAH</td>\n",
       "      <td>median market value of monthly listings - nsa ...</td>\n",
       "      <td>https://www.quandl.com/api/v3/datasets/ZILLOW/...</td>\n",
       "    </tr>\n",
       "    <tr>\n",
       "      <th>7</th>\n",
       "      <td>C36159_MLSAAH</td>\n",
       "      <td>median market value of monthly listings - sa -...</td>\n",
       "      <td>https://www.quandl.com/api/v3/datasets/ZILLOW/...</td>\n",
       "    </tr>\n",
       "    <tr>\n",
       "      <th>8</th>\n",
       "      <td>C36159_MTURN</td>\n",
       "      <td>median market value of monthly turnover</td>\n",
       "      <td>https://www.quandl.com/api/v3/datasets/ZILLOW/...</td>\n",
       "    </tr>\n",
       "    <tr>\n",
       "      <th>9</th>\n",
       "      <td>C36159_NMLNSAH</td>\n",
       "      <td>median market value of new monthly listings - ...</td>\n",
       "      <td>https://www.quandl.com/api/v3/datasets/ZILLOW/...</td>\n",
       "    </tr>\n",
       "    <tr>\n",
       "      <th>10</th>\n",
       "      <td>C36159_NMLSAAH</td>\n",
       "      <td>median market value of new monthly listings - ...</td>\n",
       "      <td>https://www.quandl.com/api/v3/datasets/ZILLOW/...</td>\n",
       "    </tr>\n",
       "    <tr>\n",
       "      <th>11</th>\n",
       "      <td>C36159_SC</td>\n",
       "      <td>median market value of sales counts</td>\n",
       "      <td>https://www.quandl.com/api/v3/datasets/ZILLOW/...</td>\n",
       "    </tr>\n",
       "    <tr>\n",
       "      <th>12</th>\n",
       "      <td>C36159_SCBT</td>\n",
       "      <td>median market value of sales counts - bottom tier</td>\n",
       "      <td>https://www.quandl.com/api/v3/datasets/ZILLOW/...</td>\n",
       "    </tr>\n",
       "    <tr>\n",
       "      <th>13</th>\n",
       "      <td>C36159_SCMT</td>\n",
       "      <td>median market value of sales counts - middle tier</td>\n",
       "      <td>https://www.quandl.com/api/v3/datasets/ZILLOW/...</td>\n",
       "    </tr>\n",
       "    <tr>\n",
       "      <th>14</th>\n",
       "      <td>C36159_SCSA</td>\n",
       "      <td>median market value of sales counts - sa</td>\n",
       "      <td>https://www.quandl.com/api/v3/datasets/ZILLOW/...</td>\n",
       "    </tr>\n",
       "    <tr>\n",
       "      <th>15</th>\n",
       "      <td>C36159_SCSABT</td>\n",
       "      <td>median market value of sales counts - sa - bot...</td>\n",
       "      <td>https://www.quandl.com/api/v3/datasets/ZILLOW/...</td>\n",
       "    </tr>\n",
       "    <tr>\n",
       "      <th>16</th>\n",
       "      <td>C36159_SCSAMT</td>\n",
       "      <td>median market value of sales counts - sa - mid...</td>\n",
       "      <td>https://www.quandl.com/api/v3/datasets/ZILLOW/...</td>\n",
       "    </tr>\n",
       "    <tr>\n",
       "      <th>17</th>\n",
       "      <td>C36159_SCSATT</td>\n",
       "      <td>median market value of sales counts - sa - top...</td>\n",
       "      <td>https://www.quandl.com/api/v3/datasets/ZILLOW/...</td>\n",
       "    </tr>\n",
       "    <tr>\n",
       "      <th>18</th>\n",
       "      <td>C36159_SCTT</td>\n",
       "      <td>median market value of sales counts - top tier</td>\n",
       "      <td>https://www.quandl.com/api/v3/datasets/ZILLOW/...</td>\n",
       "    </tr>\n",
       "    <tr>\n",
       "      <th>19</th>\n",
       "      <td>C36159_SP</td>\n",
       "      <td>median market value of sales prices</td>\n",
       "      <td>https://www.quandl.com/api/v3/datasets/ZILLOW/...</td>\n",
       "    </tr>\n",
       "    <tr>\n",
       "      <th>20</th>\n",
       "      <td>C36159_SPBT</td>\n",
       "      <td>median market value of sales counts - bottom tier</td>\n",
       "      <td>https://www.quandl.com/api/v3/datasets/ZILLOW/...</td>\n",
       "    </tr>\n",
       "    <tr>\n",
       "      <th>21</th>\n",
       "      <td>C36159_SPFS</td>\n",
       "      <td>median market value of sales previously forecl...</td>\n",
       "      <td>https://www.quandl.com/api/v3/datasets/ZILLOW/...</td>\n",
       "    </tr>\n",
       "    <tr>\n",
       "      <th>22</th>\n",
       "      <td>C36159_SPMT</td>\n",
       "      <td>median market value of sales prices - middle tier</td>\n",
       "      <td>https://www.quandl.com/api/v3/datasets/ZILLOW/...</td>\n",
       "    </tr>\n",
       "    <tr>\n",
       "      <th>23</th>\n",
       "      <td>C36159_SPTT</td>\n",
       "      <td>median market value of sales prices - top tier</td>\n",
       "      <td>https://www.quandl.com/api/v3/datasets/ZILLOW/...</td>\n",
       "    </tr>\n",
       "    <tr>\n",
       "      <th>24</th>\n",
       "      <td>C36159_STLR</td>\n",
       "      <td>median market value of sale to list ratio</td>\n",
       "      <td>https://www.quandl.com/api/v3/datasets/ZILLOW/...</td>\n",
       "    </tr>\n",
       "  </tbody>\n",
       "</table>\n",
       "</div>"
      ],
      "text/plain": [
       "              code                                        description  \\\n",
       "0     C36159_BSICG    median market value of buyer seller index cross   \n",
       "1     C36159_BSICT  median market value of buyer seller index cros...   \n",
       "2       C36159_DOZ              median market value of days on zillow   \n",
       "3    C36159_FOR10K  median market value of foreclosures per 10,000...   \n",
       "4   C36159_MDLNSAH  median market value of median daily listings -...   \n",
       "5   C36159_MDLSAAH  median market value of median daily listings -...   \n",
       "6    C36159_MLNSAH  median market value of monthly listings - nsa ...   \n",
       "7    C36159_MLSAAH  median market value of monthly listings - sa -...   \n",
       "8     C36159_MTURN            median market value of monthly turnover   \n",
       "9   C36159_NMLNSAH  median market value of new monthly listings - ...   \n",
       "10  C36159_NMLSAAH  median market value of new monthly listings - ...   \n",
       "11       C36159_SC                median market value of sales counts   \n",
       "12     C36159_SCBT  median market value of sales counts - bottom tier   \n",
       "13     C36159_SCMT  median market value of sales counts - middle tier   \n",
       "14     C36159_SCSA           median market value of sales counts - sa   \n",
       "15   C36159_SCSABT  median market value of sales counts - sa - bot...   \n",
       "16   C36159_SCSAMT  median market value of sales counts - sa - mid...   \n",
       "17   C36159_SCSATT  median market value of sales counts - sa - top...   \n",
       "18     C36159_SCTT     median market value of sales counts - top tier   \n",
       "19       C36159_SP                median market value of sales prices   \n",
       "20     C36159_SPBT  median market value of sales counts - bottom tier   \n",
       "21     C36159_SPFS  median market value of sales previously forecl...   \n",
       "22     C36159_SPMT  median market value of sales prices - middle tier   \n",
       "23     C36159_SPTT     median market value of sales prices - top tier   \n",
       "24     C36159_STLR          median market value of sale to list ratio   \n",
       "\n",
       "                                                  url  \n",
       "0   https://www.quandl.com/api/v3/datasets/ZILLOW/...  \n",
       "1   https://www.quandl.com/api/v3/datasets/ZILLOW/...  \n",
       "2   https://www.quandl.com/api/v3/datasets/ZILLOW/...  \n",
       "3   https://www.quandl.com/api/v3/datasets/ZILLOW/...  \n",
       "4   https://www.quandl.com/api/v3/datasets/ZILLOW/...  \n",
       "5   https://www.quandl.com/api/v3/datasets/ZILLOW/...  \n",
       "6   https://www.quandl.com/api/v3/datasets/ZILLOW/...  \n",
       "7   https://www.quandl.com/api/v3/datasets/ZILLOW/...  \n",
       "8   https://www.quandl.com/api/v3/datasets/ZILLOW/...  \n",
       "9   https://www.quandl.com/api/v3/datasets/ZILLOW/...  \n",
       "10  https://www.quandl.com/api/v3/datasets/ZILLOW/...  \n",
       "11  https://www.quandl.com/api/v3/datasets/ZILLOW/...  \n",
       "12  https://www.quandl.com/api/v3/datasets/ZILLOW/...  \n",
       "13  https://www.quandl.com/api/v3/datasets/ZILLOW/...  \n",
       "14  https://www.quandl.com/api/v3/datasets/ZILLOW/...  \n",
       "15  https://www.quandl.com/api/v3/datasets/ZILLOW/...  \n",
       "16  https://www.quandl.com/api/v3/datasets/ZILLOW/...  \n",
       "17  https://www.quandl.com/api/v3/datasets/ZILLOW/...  \n",
       "18  https://www.quandl.com/api/v3/datasets/ZILLOW/...  \n",
       "19  https://www.quandl.com/api/v3/datasets/ZILLOW/...  \n",
       "20  https://www.quandl.com/api/v3/datasets/ZILLOW/...  \n",
       "21  https://www.quandl.com/api/v3/datasets/ZILLOW/...  \n",
       "22  https://www.quandl.com/api/v3/datasets/ZILLOW/...  \n",
       "23  https://www.quandl.com/api/v3/datasets/ZILLOW/...  \n",
       "24  https://www.quandl.com/api/v3/datasets/ZILLOW/...  "
      ]
     },
     "execution_count": 6,
     "metadata": {},
     "output_type": "execute_result"
    }
   ],
   "source": [
    "#Get Zillow codes\n",
    "zillow_codes_file = \"Phoenix_Zillow_Codes.xlsx\"\n",
    "Zillow_data_df = pd.read_excel(zillow_codes_file)\n",
    "codesdf = Zillow_data_df.loc[:,[\"code\",\"description\"]]\n",
    "codesdf[\"url\"] = codesdf[\"code\"].apply(make_url)\n",
    "codesdf"
   ]
  },
  {
   "cell_type": "code",
   "execution_count": 7,
   "metadata": {
    "ExecuteTime": {
     "end_time": "2019-10-04T03:14:17.915830Z",
     "start_time": "2019-10-04T03:14:09.434018Z"
    }
   },
   "outputs": [],
   "source": [
    "#Get Data\n",
    "urls = codesdf[\"url\"]\n",
    "datasets = []\n",
    "for url in urls:\n",
    "    response = requests.get(url).json()\n",
    "    responsedf = pd.DataFrame(response)\n",
    "    datasets.append(responsedf)\n"
   ]
  },
  {
   "cell_type": "code",
   "execution_count": 8,
   "metadata": {
    "ExecuteTime": {
     "end_time": "2019-10-04T03:14:18.386827Z",
     "start_time": "2019-10-04T03:14:18.382858Z"
    }
   },
   "outputs": [],
   "source": [
    "def get_dataset(index):\n",
    "    code_value = codesdf[\"code\"][index]\n",
    "    code_label = codesdf[\"description\"][index]\n",
    "    data = quandl.get(f\"ZILLOW/{code_value}\", authtoken=api_key)\n",
    "    data.reset_index(level=0, inplace=True)\n",
    "    data[\"Code\"]= code_value\n",
    "    data[\"Label\"] = code_label\n",
    "    return data"
   ]
  },
  {
   "cell_type": "code",
   "execution_count": 9,
   "metadata": {
    "ExecuteTime": {
     "end_time": "2019-10-04T03:14:19.088830Z",
     "start_time": "2019-10-04T03:14:18.859596Z"
    }
   },
   "outputs": [
    {
     "name": "stdout",
     "output_type": "stream",
     "text": [
      "Number of datasets: 25\n"
     ]
    },
    {
     "data": {
      "text/html": [
       "<div>\n",
       "<style scoped>\n",
       "    .dataframe tbody tr th:only-of-type {\n",
       "        vertical-align: middle;\n",
       "    }\n",
       "\n",
       "    .dataframe tbody tr th {\n",
       "        vertical-align: top;\n",
       "    }\n",
       "\n",
       "    .dataframe thead th {\n",
       "        text-align: right;\n",
       "    }\n",
       "</style>\n",
       "<table border=\"1\" class=\"dataframe\">\n",
       "  <thead>\n",
       "    <tr style=\"text-align: right;\">\n",
       "      <th></th>\n",
       "      <th>Date</th>\n",
       "      <th>Value</th>\n",
       "      <th>Code</th>\n",
       "      <th>Label</th>\n",
       "    </tr>\n",
       "  </thead>\n",
       "  <tbody>\n",
       "    <tr>\n",
       "      <th>0</th>\n",
       "      <td>2010-11-30</td>\n",
       "      <td>5.31</td>\n",
       "      <td>C36159_BSICG</td>\n",
       "      <td>median market value of buyer seller index cross</td>\n",
       "    </tr>\n",
       "    <tr>\n",
       "      <th>1</th>\n",
       "      <td>2010-12-31</td>\n",
       "      <td>6.25</td>\n",
       "      <td>C36159_BSICG</td>\n",
       "      <td>median market value of buyer seller index cross</td>\n",
       "    </tr>\n",
       "    <tr>\n",
       "      <th>2</th>\n",
       "      <td>2011-01-31</td>\n",
       "      <td>6.88</td>\n",
       "      <td>C36159_BSICG</td>\n",
       "      <td>median market value of buyer seller index cross</td>\n",
       "    </tr>\n",
       "    <tr>\n",
       "      <th>3</th>\n",
       "      <td>2011-02-28</td>\n",
       "      <td>6.88</td>\n",
       "      <td>C36159_BSICG</td>\n",
       "      <td>median market value of buyer seller index cross</td>\n",
       "    </tr>\n",
       "    <tr>\n",
       "      <th>4</th>\n",
       "      <td>2011-03-31</td>\n",
       "      <td>6.56</td>\n",
       "      <td>C36159_BSICG</td>\n",
       "      <td>median market value of buyer seller index cross</td>\n",
       "    </tr>\n",
       "  </tbody>\n",
       "</table>\n",
       "</div>"
      ],
      "text/plain": [
       "        Date  Value          Code  \\\n",
       "0 2010-11-30   5.31  C36159_BSICG   \n",
       "1 2010-12-31   6.25  C36159_BSICG   \n",
       "2 2011-01-31   6.88  C36159_BSICG   \n",
       "3 2011-02-28   6.88  C36159_BSICG   \n",
       "4 2011-03-31   6.56  C36159_BSICG   \n",
       "\n",
       "                                             Label  \n",
       "0  median market value of buyer seller index cross  \n",
       "1  median market value of buyer seller index cross  \n",
       "2  median market value of buyer seller index cross  \n",
       "3  median market value of buyer seller index cross  \n",
       "4  median market value of buyer seller index cross  "
      ]
     },
     "execution_count": 9,
     "metadata": {},
     "output_type": "execute_result"
    }
   ],
   "source": [
    "num_codes = len(codesdf)\n",
    "print(f\"Number of datasets: {num_codes}\")\n",
    "#Get first dataset\n",
    "data = get_dataset(0)\n",
    "data.head()"
   ]
  },
  {
   "cell_type": "code",
   "execution_count": 10,
   "metadata": {
    "ExecuteTime": {
     "end_time": "2019-10-04T03:14:26.115216Z",
     "start_time": "2019-10-04T03:14:19.590099Z"
    }
   },
   "outputs": [
    {
     "name": "stdout",
     "output_type": "stream",
     "text": [
      "1: C36159_BSICT 106 212\n",
      "2: C36159_DOZ 115 327\n",
      "3: C36159_FOR10K 130 457\n",
      "4: C36159_MDLNSAH 80 537\n",
      "5: C36159_MDLSAAH 80 617\n",
      "6: C36159_MLNSAH 80 697\n",
      "7: C36159_MLSAAH 80 777\n",
      "8: C36159_MTURN 128 905\n",
      "9: C36159_NMLNSAH 80 985\n",
      "10: C36159_NMLSAAH 80 1065\n",
      "11: C36159_SC 138 1203\n",
      "12: C36159_SCBT 138 1341\n",
      "13: C36159_SCMT 138 1479\n",
      "14: C36159_SCSA 138 1617\n",
      "15: C36159_SCSABT 138 1755\n",
      "16: C36159_SCSAMT 138 1893\n",
      "17: C36159_SCSATT 138 2031\n",
      "18: C36159_SCTT 138 2169\n",
      "19: C36159_SP 138 2307\n",
      "20: C36159_SPBT 138 2445\n",
      "21: C36159_SPFS 122 2567\n",
      "22: C36159_SPMT 138 2705\n",
      "23: C36159_SPTT 138 2843\n",
      "24: C36159_STLR 115 2958\n"
     ]
    }
   ],
   "source": [
    "#Append remaining datasets\n",
    "for code_index in range(1,num_codes):\n",
    "    new_data = get_dataset(code_index)\n",
    "    #print(new_data)\n",
    "    data = data.append(new_data)\n",
    "    print(f\"{code_index}: {codesdf['code'][code_index]} {len(new_data)} {len(data)}\")\n",
    "    "
   ]
  },
  {
   "cell_type": "code",
   "execution_count": 11,
   "metadata": {
    "ExecuteTime": {
     "end_time": "2019-10-04T03:14:35.081591Z",
     "start_time": "2019-10-04T03:14:35.032903Z"
    }
   },
   "outputs": [],
   "source": [
    "#Export Data\n",
    "data.to_csv(\"Zillow_data.csv\")"
   ]
  },
  {
   "cell_type": "code",
   "execution_count": null,
   "metadata": {},
   "outputs": [],
   "source": []
  }
 ],
 "metadata": {
  "kernelspec": {
   "display_name": "Python 3",
   "language": "python",
   "name": "python3"
  },
  "language_info": {
   "codemirror_mode": {
    "name": "ipython",
    "version": 3
   },
   "file_extension": ".py",
   "mimetype": "text/x-python",
   "name": "python",
   "nbconvert_exporter": "python",
   "pygments_lexer": "ipython3",
   "version": "3.7.3"
  },
  "varInspector": {
   "cols": {
    "lenName": 16,
    "lenType": 16,
    "lenVar": 40
   },
   "kernels_config": {
    "python": {
     "delete_cmd_postfix": "",
     "delete_cmd_prefix": "del ",
     "library": "var_list.py",
     "varRefreshCmd": "print(var_dic_list())"
    },
    "r": {
     "delete_cmd_postfix": ") ",
     "delete_cmd_prefix": "rm(",
     "library": "var_list.r",
     "varRefreshCmd": "cat(var_dic_list()) "
    }
   },
   "types_to_exclude": [
    "module",
    "function",
    "builtin_function_or_method",
    "instance",
    "_Feature"
   ],
   "window_display": false
  }
 },
 "nbformat": 4,
 "nbformat_minor": 2
}
