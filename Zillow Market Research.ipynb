{
 "cells": [
  {
   "cell_type": "markdown",
   "metadata": {},
   "source": [
    "# Retreive Phoenix, AZ Zillow data from Quandl"
   ]
  },
  {
   "cell_type": "code",
   "execution_count": 26,
   "metadata": {
    "ExecuteTime": {
     "end_time": "2019-10-06T21:37:57.526713Z",
     "start_time": "2019-10-06T21:37:57.522909Z"
    }
   },
   "outputs": [],
   "source": [
    "#Import Dependencies\n",
    "import requests\n",
    "import pandas as pd\n",
    "import quandl\n",
    "\n",
    "#Get Quandl API key\n",
    "quandl.read_key()\n",
    "api_key = quandl.ApiConfig.api_key\n",
    "\n",
    "#Constants\n",
    "zillow_codes_file = \"Phoenix_Zillow_Codes.xlsx\"\n",
    "zillow_data_file = \"Zillow_data.csv\"\n",
    "zillow_pivot_file = \"Zillow_pivot.csv\""
   ]
  },
  {
   "cell_type": "code",
   "execution_count": 12,
   "metadata": {
    "ExecuteTime": {
     "end_time": "2019-10-06T21:18:07.089422Z",
     "start_time": "2019-10-06T21:18:07.085017Z"
    }
   },
   "outputs": [],
   "source": [
    "def make_url(code):\n",
    "    return f\"https://www.quandl.com/api/v3/datasets/ZILLOW/{code}.json?api_key={api_key}\""
   ]
  },
  {
   "cell_type": "code",
   "execution_count": 13,
   "metadata": {
    "ExecuteTime": {
     "end_time": "2019-10-06T21:18:07.888263Z",
     "start_time": "2019-10-06T21:18:07.883428Z"
    }
   },
   "outputs": [],
   "source": [
    "def read_zillow_codes(codes_file):\n",
    "    Zillow_data_df = pd.read_excel(codes_file)\n",
    "    codesdf = Zillow_data_df.loc[:,[\"code\",\"description\"]]\n",
    "    codesdf[\"url\"] = codesdf[\"code\"].apply(make_url)\n",
    "    return codesdf"
   ]
  },
  {
   "cell_type": "code",
   "execution_count": 14,
   "metadata": {
    "ExecuteTime": {
     "end_time": "2019-10-06T21:18:10.036208Z",
     "start_time": "2019-10-06T21:18:10.032184Z"
    }
   },
   "outputs": [],
   "source": [
    "def get_responses(code_urls):\n",
    "    datasets = []\n",
    "    for url in code_urls:\n",
    "        response = requests.get(url).json()\n",
    "        responsedf = pd.DataFrame(response)\n",
    "        datasets.append(responsedf)\n",
    "    return responsedf"
   ]
  },
  {
   "cell_type": "code",
   "execution_count": 15,
   "metadata": {
    "ExecuteTime": {
     "end_time": "2019-10-06T21:18:11.566922Z",
     "start_time": "2019-10-06T21:18:11.562297Z"
    }
   },
   "outputs": [],
   "source": [
    "def get_dataset(index):\n",
    "    code_value = codesdf[\"code\"][index]\n",
    "    code_label = codesdf[\"description\"][index]\n",
    "    data = quandl.get(f\"ZILLOW/{code_value}\", authtoken=api_key)\n",
    "    data.reset_index(level=0, inplace=True)\n",
    "    data[\"Code\"]= code_value\n",
    "    data[\"Label\"] = code_label\n",
    "    return data"
   ]
  },
  {
   "cell_type": "markdown",
   "metadata": {},
   "source": [
    "## Read Zillow Codes"
   ]
  },
  {
   "cell_type": "code",
   "execution_count": 17,
   "metadata": {
    "ExecuteTime": {
     "end_time": "2019-10-06T21:18:34.888581Z",
     "start_time": "2019-10-06T21:18:34.873075Z"
    }
   },
   "outputs": [
    {
     "data": {
      "text/html": [
       "<div>\n",
       "<style scoped>\n",
       "    .dataframe tbody tr th:only-of-type {\n",
       "        vertical-align: middle;\n",
       "    }\n",
       "\n",
       "    .dataframe tbody tr th {\n",
       "        vertical-align: top;\n",
       "    }\n",
       "\n",
       "    .dataframe thead th {\n",
       "        text-align: right;\n",
       "    }\n",
       "</style>\n",
       "<table border=\"1\" class=\"dataframe\">\n",
       "  <thead>\n",
       "    <tr style=\"text-align: right;\">\n",
       "      <th></th>\n",
       "      <th>code</th>\n",
       "      <th>description</th>\n",
       "      <th>url</th>\n",
       "    </tr>\n",
       "  </thead>\n",
       "  <tbody>\n",
       "    <tr>\n",
       "      <th>0</th>\n",
       "      <td>C36159_BSICG</td>\n",
       "      <td>median market value of buyer seller index cross</td>\n",
       "      <td>https://www.quandl.com/api/v3/datasets/ZILLOW/...</td>\n",
       "    </tr>\n",
       "    <tr>\n",
       "      <th>1</th>\n",
       "      <td>C36159_BSICT</td>\n",
       "      <td>median market value of buyer seller index cros...</td>\n",
       "      <td>https://www.quandl.com/api/v3/datasets/ZILLOW/...</td>\n",
       "    </tr>\n",
       "    <tr>\n",
       "      <th>2</th>\n",
       "      <td>C36159_DOZ</td>\n",
       "      <td>median market value of days on zillow</td>\n",
       "      <td>https://www.quandl.com/api/v3/datasets/ZILLOW/...</td>\n",
       "    </tr>\n",
       "    <tr>\n",
       "      <th>3</th>\n",
       "      <td>C36159_FOR10K</td>\n",
       "      <td>median market value of foreclosures per 10,000...</td>\n",
       "      <td>https://www.quandl.com/api/v3/datasets/ZILLOW/...</td>\n",
       "    </tr>\n",
       "    <tr>\n",
       "      <th>4</th>\n",
       "      <td>C36159_MDLNSAH</td>\n",
       "      <td>median market value of median daily listings -...</td>\n",
       "      <td>https://www.quandl.com/api/v3/datasets/ZILLOW/...</td>\n",
       "    </tr>\n",
       "  </tbody>\n",
       "</table>\n",
       "</div>"
      ],
      "text/plain": [
       "             code                                        description  \\\n",
       "0    C36159_BSICG    median market value of buyer seller index cross   \n",
       "1    C36159_BSICT  median market value of buyer seller index cros...   \n",
       "2      C36159_DOZ              median market value of days on zillow   \n",
       "3   C36159_FOR10K  median market value of foreclosures per 10,000...   \n",
       "4  C36159_MDLNSAH  median market value of median daily listings -...   \n",
       "\n",
       "                                                 url  \n",
       "0  https://www.quandl.com/api/v3/datasets/ZILLOW/...  \n",
       "1  https://www.quandl.com/api/v3/datasets/ZILLOW/...  \n",
       "2  https://www.quandl.com/api/v3/datasets/ZILLOW/...  \n",
       "3  https://www.quandl.com/api/v3/datasets/ZILLOW/...  \n",
       "4  https://www.quandl.com/api/v3/datasets/ZILLOW/...  "
      ]
     },
     "execution_count": 17,
     "metadata": {},
     "output_type": "execute_result"
    }
   ],
   "source": [
    "codesdf = read_zillow_codes(zillow_codes_file)\n",
    "codesdf.head()"
   ]
  },
  {
   "cell_type": "markdown",
   "metadata": {},
   "source": [
    "## Get Quandl responses for Zillow codes"
   ]
  },
  {
   "cell_type": "code",
   "execution_count": 19,
   "metadata": {
    "ExecuteTime": {
     "end_time": "2019-10-06T21:21:51.891846Z",
     "start_time": "2019-10-06T21:21:43.922158Z"
    }
   },
   "outputs": [
    {
     "name": "stdout",
     "output_type": "stream",
     "text": [
      "Number of datasets: 25\n"
     ]
    },
    {
     "data": {
      "text/html": [
       "<div>\n",
       "<style scoped>\n",
       "    .dataframe tbody tr th:only-of-type {\n",
       "        vertical-align: middle;\n",
       "    }\n",
       "\n",
       "    .dataframe tbody tr th {\n",
       "        vertical-align: top;\n",
       "    }\n",
       "\n",
       "    .dataframe thead th {\n",
       "        text-align: right;\n",
       "    }\n",
       "</style>\n",
       "<table border=\"1\" class=\"dataframe\">\n",
       "  <thead>\n",
       "    <tr style=\"text-align: right;\">\n",
       "      <th></th>\n",
       "      <th>dataset</th>\n",
       "    </tr>\n",
       "  </thead>\n",
       "  <tbody>\n",
       "    <tr>\n",
       "      <th>collapse</th>\n",
       "      <td>None</td>\n",
       "    </tr>\n",
       "    <tr>\n",
       "      <th>column_index</th>\n",
       "      <td>None</td>\n",
       "    </tr>\n",
       "    <tr>\n",
       "      <th>column_names</th>\n",
       "      <td>[Date, Value]</td>\n",
       "    </tr>\n",
       "    <tr>\n",
       "      <th>data</th>\n",
       "      <td>[[2019-07-31, 0.98004900245012], [2019-06-30, ...</td>\n",
       "    </tr>\n",
       "    <tr>\n",
       "      <th>database_code</th>\n",
       "      <td>ZILLOW</td>\n",
       "    </tr>\n",
       "  </tbody>\n",
       "</table>\n",
       "</div>"
      ],
      "text/plain": [
       "                                                         dataset\n",
       "collapse                                                    None\n",
       "column_index                                                None\n",
       "column_names                                       [Date, Value]\n",
       "data           [[2019-07-31, 0.98004900245012], [2019-06-30, ...\n",
       "database_code                                             ZILLOW"
      ]
     },
     "execution_count": 19,
     "metadata": {},
     "output_type": "execute_result"
    }
   ],
   "source": [
    "responsedf = get_responses(codesdf[\"url\"])\n",
    "num_codes = len(codesdf)\n",
    "print(f\"Number of datasets: {num_codes}\")\n",
    "responsedf.head()"
   ]
  },
  {
   "cell_type": "markdown",
   "metadata": {
    "ExecuteTime": {
     "end_time": "2019-10-06T21:43:03.314285Z",
     "start_time": "2019-10-06T21:43:03.311323Z"
    }
   },
   "source": [
    "## Make raw Zillow dataframe with all datasets appended "
   ]
  },
  {
   "cell_type": "code",
   "execution_count": 23,
   "metadata": {
    "ExecuteTime": {
     "end_time": "2019-10-06T21:33:36.935424Z",
     "start_time": "2019-10-06T21:33:28.619961Z"
    }
   },
   "outputs": [
    {
     "name": "stdout",
     "output_type": "stream",
     "text": [
      "1: C36159_BSICT 106 212\n",
      "2: C36159_DOZ 115 327\n",
      "3: C36159_FOR10K 130 457\n",
      "4: C36159_MDLNSAH 80 537\n",
      "5: C36159_MDLSAAH 80 617\n",
      "6: C36159_MLNSAH 80 697\n",
      "7: C36159_MLSAAH 80 777\n",
      "8: C36159_MTURN 128 905\n",
      "9: C36159_NMLNSAH 80 985\n",
      "10: C36159_NMLSAAH 80 1065\n",
      "11: C36159_SC 138 1203\n",
      "12: C36159_SCBT 138 1341\n",
      "13: C36159_SCMT 138 1479\n",
      "14: C36159_SCSA 138 1617\n",
      "15: C36159_SCSABT 138 1755\n",
      "16: C36159_SCSAMT 138 1893\n",
      "17: C36159_SCSATT 138 2031\n",
      "18: C36159_SCTT 138 2169\n",
      "19: C36159_SP 138 2307\n",
      "20: C36159_SPBT 138 2445\n",
      "21: C36159_SPFS 122 2567\n",
      "22: C36159_SPMT 138 2705\n",
      "23: C36159_SPTT 138 2843\n",
      "24: C36159_STLR 115 2958\n"
     ]
    },
    {
     "data": {
      "text/html": [
       "<div>\n",
       "<style scoped>\n",
       "    .dataframe tbody tr th:only-of-type {\n",
       "        vertical-align: middle;\n",
       "    }\n",
       "\n",
       "    .dataframe tbody tr th {\n",
       "        vertical-align: top;\n",
       "    }\n",
       "\n",
       "    .dataframe thead th {\n",
       "        text-align: right;\n",
       "    }\n",
       "</style>\n",
       "<table border=\"1\" class=\"dataframe\">\n",
       "  <thead>\n",
       "    <tr style=\"text-align: right;\">\n",
       "      <th></th>\n",
       "      <th>Date</th>\n",
       "      <th>Value</th>\n",
       "      <th>Code</th>\n",
       "      <th>Label</th>\n",
       "    </tr>\n",
       "  </thead>\n",
       "  <tbody>\n",
       "    <tr>\n",
       "      <th>0</th>\n",
       "      <td>2010-11-30</td>\n",
       "      <td>5.31</td>\n",
       "      <td>C36159_BSICG</td>\n",
       "      <td>median market value of buyer seller index cross</td>\n",
       "    </tr>\n",
       "    <tr>\n",
       "      <th>1</th>\n",
       "      <td>2010-12-31</td>\n",
       "      <td>6.25</td>\n",
       "      <td>C36159_BSICG</td>\n",
       "      <td>median market value of buyer seller index cross</td>\n",
       "    </tr>\n",
       "    <tr>\n",
       "      <th>2</th>\n",
       "      <td>2011-01-31</td>\n",
       "      <td>6.88</td>\n",
       "      <td>C36159_BSICG</td>\n",
       "      <td>median market value of buyer seller index cross</td>\n",
       "    </tr>\n",
       "    <tr>\n",
       "      <th>3</th>\n",
       "      <td>2011-02-28</td>\n",
       "      <td>6.88</td>\n",
       "      <td>C36159_BSICG</td>\n",
       "      <td>median market value of buyer seller index cross</td>\n",
       "    </tr>\n",
       "    <tr>\n",
       "      <th>4</th>\n",
       "      <td>2011-03-31</td>\n",
       "      <td>6.56</td>\n",
       "      <td>C36159_BSICG</td>\n",
       "      <td>median market value of buyer seller index cross</td>\n",
       "    </tr>\n",
       "  </tbody>\n",
       "</table>\n",
       "</div>"
      ],
      "text/plain": [
       "        Date  Value          Code  \\\n",
       "0 2010-11-30   5.31  C36159_BSICG   \n",
       "1 2010-12-31   6.25  C36159_BSICG   \n",
       "2 2011-01-31   6.88  C36159_BSICG   \n",
       "3 2011-02-28   6.88  C36159_BSICG   \n",
       "4 2011-03-31   6.56  C36159_BSICG   \n",
       "\n",
       "                                             Label  \n",
       "0  median market value of buyer seller index cross  \n",
       "1  median market value of buyer seller index cross  \n",
       "2  median market value of buyer seller index cross  \n",
       "3  median market value of buyer seller index cross  \n",
       "4  median market value of buyer seller index cross  "
      ]
     },
     "execution_count": 23,
     "metadata": {},
     "output_type": "execute_result"
    }
   ],
   "source": [
    "# Get first dataset\n",
    "data = get_dataset(0)\n",
    "# Append remaining datasets\n",
    "for code_index in range(1,num_codes):\n",
    "    new_data = get_dataset(code_index)\n",
    "    #print(new_data)\n",
    "    data = data.append(new_data)\n",
    "    print(f\"{code_index}: {codesdf['code'][code_index]} {len(new_data)} {len(data)}\")\n",
    "# Save Raw Zillow Data\n",
    "data.to_csv(zillow_data_file)\n",
    "data.head()"
   ]
  },
  {
   "cell_type": "markdown",
   "metadata": {},
   "source": [
    "## Pivot ZIllow data to one dataset per column"
   ]
  },
  {
   "cell_type": "code",
   "execution_count": 27,
   "metadata": {
    "ExecuteTime": {
     "end_time": "2019-10-06T21:38:02.881955Z",
     "start_time": "2019-10-06T21:38:02.833050Z"
    }
   },
   "outputs": [
    {
     "data": {
      "text/html": [
       "<div>\n",
       "<style scoped>\n",
       "    .dataframe tbody tr th:only-of-type {\n",
       "        vertical-align: middle;\n",
       "    }\n",
       "\n",
       "    .dataframe tbody tr th {\n",
       "        vertical-align: top;\n",
       "    }\n",
       "\n",
       "    .dataframe thead tr th {\n",
       "        text-align: left;\n",
       "    }\n",
       "\n",
       "    .dataframe thead tr:last-of-type th {\n",
       "        text-align: right;\n",
       "    }\n",
       "</style>\n",
       "<table border=\"1\" class=\"dataframe\">\n",
       "  <thead>\n",
       "    <tr>\n",
       "      <th></th>\n",
       "      <th colspan=\"21\" halign=\"left\">Value</th>\n",
       "    </tr>\n",
       "    <tr>\n",
       "      <th>Code</th>\n",
       "      <th>C36159_BSICG</th>\n",
       "      <th>C36159_BSICT</th>\n",
       "      <th>C36159_DOZ</th>\n",
       "      <th>C36159_FOR10K</th>\n",
       "      <th>C36159_MDLNSAH</th>\n",
       "      <th>C36159_MDLSAAH</th>\n",
       "      <th>C36159_MLNSAH</th>\n",
       "      <th>C36159_MLSAAH</th>\n",
       "      <th>C36159_MTURN</th>\n",
       "      <th>C36159_NMLNSAH</th>\n",
       "      <th>...</th>\n",
       "      <th>C36159_SCSABT</th>\n",
       "      <th>C36159_SCSAMT</th>\n",
       "      <th>C36159_SCSATT</th>\n",
       "      <th>C36159_SCTT</th>\n",
       "      <th>C36159_SP</th>\n",
       "      <th>C36159_SPBT</th>\n",
       "      <th>C36159_SPFS</th>\n",
       "      <th>C36159_SPMT</th>\n",
       "      <th>C36159_SPTT</th>\n",
       "      <th>C36159_STLR</th>\n",
       "    </tr>\n",
       "    <tr>\n",
       "      <th>Date</th>\n",
       "      <th></th>\n",
       "      <th></th>\n",
       "      <th></th>\n",
       "      <th></th>\n",
       "      <th></th>\n",
       "      <th></th>\n",
       "      <th></th>\n",
       "      <th></th>\n",
       "      <th></th>\n",
       "      <th></th>\n",
       "      <th></th>\n",
       "      <th></th>\n",
       "      <th></th>\n",
       "      <th></th>\n",
       "      <th></th>\n",
       "      <th></th>\n",
       "      <th></th>\n",
       "      <th></th>\n",
       "      <th></th>\n",
       "      <th></th>\n",
       "      <th></th>\n",
       "    </tr>\n",
       "  </thead>\n",
       "  <tbody>\n",
       "    <tr>\n",
       "      <th>2008-01-31</th>\n",
       "      <td>NaN</td>\n",
       "      <td>NaN</td>\n",
       "      <td>NaN</td>\n",
       "      <td>8.17</td>\n",
       "      <td>NaN</td>\n",
       "      <td>NaN</td>\n",
       "      <td>NaN</td>\n",
       "      <td>NaN</td>\n",
       "      <td>NaN</td>\n",
       "      <td>NaN</td>\n",
       "      <td>...</td>\n",
       "      <td>NaN</td>\n",
       "      <td>NaN</td>\n",
       "      <td>NaN</td>\n",
       "      <td>NaN</td>\n",
       "      <td>NaN</td>\n",
       "      <td>NaN</td>\n",
       "      <td>NaN</td>\n",
       "      <td>NaN</td>\n",
       "      <td>NaN</td>\n",
       "      <td>NaN</td>\n",
       "    </tr>\n",
       "    <tr>\n",
       "      <th>2008-02-29</th>\n",
       "      <td>NaN</td>\n",
       "      <td>NaN</td>\n",
       "      <td>NaN</td>\n",
       "      <td>9.26</td>\n",
       "      <td>NaN</td>\n",
       "      <td>NaN</td>\n",
       "      <td>NaN</td>\n",
       "      <td>NaN</td>\n",
       "      <td>NaN</td>\n",
       "      <td>NaN</td>\n",
       "      <td>...</td>\n",
       "      <td>NaN</td>\n",
       "      <td>NaN</td>\n",
       "      <td>NaN</td>\n",
       "      <td>NaN</td>\n",
       "      <td>NaN</td>\n",
       "      <td>NaN</td>\n",
       "      <td>NaN</td>\n",
       "      <td>NaN</td>\n",
       "      <td>NaN</td>\n",
       "      <td>NaN</td>\n",
       "    </tr>\n",
       "    <tr>\n",
       "      <th>2008-03-31</th>\n",
       "      <td>NaN</td>\n",
       "      <td>NaN</td>\n",
       "      <td>NaN</td>\n",
       "      <td>9.89</td>\n",
       "      <td>NaN</td>\n",
       "      <td>NaN</td>\n",
       "      <td>NaN</td>\n",
       "      <td>NaN</td>\n",
       "      <td>0.0032</td>\n",
       "      <td>NaN</td>\n",
       "      <td>...</td>\n",
       "      <td>482.0</td>\n",
       "      <td>384.0</td>\n",
       "      <td>291.0</td>\n",
       "      <td>238.0</td>\n",
       "      <td>221500.0</td>\n",
       "      <td>156900.0</td>\n",
       "      <td>NaN</td>\n",
       "      <td>244300.0</td>\n",
       "      <td>465500.0</td>\n",
       "      <td>NaN</td>\n",
       "    </tr>\n",
       "    <tr>\n",
       "      <th>2008-04-30</th>\n",
       "      <td>NaN</td>\n",
       "      <td>NaN</td>\n",
       "      <td>NaN</td>\n",
       "      <td>13.97</td>\n",
       "      <td>NaN</td>\n",
       "      <td>NaN</td>\n",
       "      <td>NaN</td>\n",
       "      <td>NaN</td>\n",
       "      <td>0.0039</td>\n",
       "      <td>NaN</td>\n",
       "      <td>...</td>\n",
       "      <td>487.0</td>\n",
       "      <td>349.0</td>\n",
       "      <td>260.0</td>\n",
       "      <td>314.0</td>\n",
       "      <td>212600.0</td>\n",
       "      <td>147400.0</td>\n",
       "      <td>NaN</td>\n",
       "      <td>240300.0</td>\n",
       "      <td>428200.0</td>\n",
       "      <td>NaN</td>\n",
       "    </tr>\n",
       "    <tr>\n",
       "      <th>2008-05-31</th>\n",
       "      <td>NaN</td>\n",
       "      <td>NaN</td>\n",
       "      <td>NaN</td>\n",
       "      <td>14.80</td>\n",
       "      <td>NaN</td>\n",
       "      <td>NaN</td>\n",
       "      <td>NaN</td>\n",
       "      <td>NaN</td>\n",
       "      <td>0.0042</td>\n",
       "      <td>NaN</td>\n",
       "      <td>...</td>\n",
       "      <td>526.0</td>\n",
       "      <td>372.0</td>\n",
       "      <td>257.0</td>\n",
       "      <td>335.0</td>\n",
       "      <td>204600.0</td>\n",
       "      <td>137300.0</td>\n",
       "      <td>NaN</td>\n",
       "      <td>233500.0</td>\n",
       "      <td>413900.0</td>\n",
       "      <td>NaN</td>\n",
       "    </tr>\n",
       "  </tbody>\n",
       "</table>\n",
       "<p>5 rows × 25 columns</p>\n",
       "</div>"
      ],
      "text/plain": [
       "                  Value                                                       \\\n",
       "Code       C36159_BSICG C36159_BSICT C36159_DOZ C36159_FOR10K C36159_MDLNSAH   \n",
       "Date                                                                           \n",
       "2008-01-31          NaN          NaN        NaN          8.17            NaN   \n",
       "2008-02-29          NaN          NaN        NaN          9.26            NaN   \n",
       "2008-03-31          NaN          NaN        NaN          9.89            NaN   \n",
       "2008-04-30          NaN          NaN        NaN         13.97            NaN   \n",
       "2008-05-31          NaN          NaN        NaN         14.80            NaN   \n",
       "\n",
       "                                                                    \\\n",
       "Code       C36159_MDLSAAH C36159_MLNSAH C36159_MLSAAH C36159_MTURN   \n",
       "Date                                                                 \n",
       "2008-01-31            NaN           NaN           NaN          NaN   \n",
       "2008-02-29            NaN           NaN           NaN          NaN   \n",
       "2008-03-31            NaN           NaN           NaN       0.0032   \n",
       "2008-04-30            NaN           NaN           NaN       0.0039   \n",
       "2008-05-31            NaN           NaN           NaN       0.0042   \n",
       "\n",
       "                           ...                                            \\\n",
       "Code       C36159_NMLNSAH  ... C36159_SCSABT C36159_SCSAMT C36159_SCSATT   \n",
       "Date                       ...                                             \n",
       "2008-01-31            NaN  ...           NaN           NaN           NaN   \n",
       "2008-02-29            NaN  ...           NaN           NaN           NaN   \n",
       "2008-03-31            NaN  ...         482.0         384.0         291.0   \n",
       "2008-04-30            NaN  ...         487.0         349.0         260.0   \n",
       "2008-05-31            NaN  ...         526.0         372.0         257.0   \n",
       "\n",
       "                                                                      \\\n",
       "Code       C36159_SCTT C36159_SP C36159_SPBT C36159_SPFS C36159_SPMT   \n",
       "Date                                                                   \n",
       "2008-01-31         NaN       NaN         NaN         NaN         NaN   \n",
       "2008-02-29         NaN       NaN         NaN         NaN         NaN   \n",
       "2008-03-31       238.0  221500.0    156900.0         NaN    244300.0   \n",
       "2008-04-30       314.0  212600.0    147400.0         NaN    240300.0   \n",
       "2008-05-31       335.0  204600.0    137300.0         NaN    233500.0   \n",
       "\n",
       "                                    \n",
       "Code       C36159_SPTT C36159_STLR  \n",
       "Date                                \n",
       "2008-01-31         NaN         NaN  \n",
       "2008-02-29         NaN         NaN  \n",
       "2008-03-31    465500.0         NaN  \n",
       "2008-04-30    428200.0         NaN  \n",
       "2008-05-31    413900.0         NaN  \n",
       "\n",
       "[5 rows x 25 columns]"
      ]
     },
     "execution_count": 27,
     "metadata": {},
     "output_type": "execute_result"
    }
   ],
   "source": [
    "# Pivot raw Zillow data\n",
    "data_pivot = data.pivot_table(index=\"Date\",columns=[\"Code\"],values=[\"Value\"],aggfunc='mean')\n",
    "\n",
    "# Save Pivoted zillow data\n",
    "data_pivot.to_csv(zillow_pivot_file)\n",
    "\n",
    "data_pivot.head()"
   ]
  },
  {
   "cell_type": "markdown",
   "metadata": {},
   "source": [
    "## Pivot data cleaned manually to fix headers\n",
    "Cleaned data saved in Zillow_pivot_cleaned.csv"
   ]
  }
 ],
 "metadata": {
  "kernelspec": {
   "display_name": "Python 3",
   "language": "python",
   "name": "python3"
  },
  "language_info": {
   "codemirror_mode": {
    "name": "ipython",
    "version": 3
   },
   "file_extension": ".py",
   "mimetype": "text/x-python",
   "name": "python",
   "nbconvert_exporter": "python",
   "pygments_lexer": "ipython3",
   "version": "3.7.3"
  },
  "varInspector": {
   "cols": {
    "lenName": 16,
    "lenType": 16,
    "lenVar": 40
   },
   "kernels_config": {
    "python": {
     "delete_cmd_postfix": "",
     "delete_cmd_prefix": "del ",
     "library": "var_list.py",
     "varRefreshCmd": "print(var_dic_list())"
    },
    "r": {
     "delete_cmd_postfix": ") ",
     "delete_cmd_prefix": "rm(",
     "library": "var_list.r",
     "varRefreshCmd": "cat(var_dic_list()) "
    }
   },
   "types_to_exclude": [
    "module",
    "function",
    "builtin_function_or_method",
    "instance",
    "_Feature"
   ],
   "window_display": false
  }
 },
 "nbformat": 4,
 "nbformat_minor": 2
}
