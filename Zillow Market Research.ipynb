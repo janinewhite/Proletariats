{
 "cells": [
  {
   "cell_type": "code",
   "execution_count": null,
   "metadata": {
    "ExecuteTime": {
     "end_time": "2019-09-27T04:19:08.493176Z",
     "start_time": "2019-09-27T04:19:07.569288Z"
    }
   },
   "outputs": [],
   "source": [
    "import requests\n",
    "import pandas as pd\n",
    "import matplotlib.pyplot as plt\n",
    "import quandl\n",
    "quandl.read_key()\n",
    "api_key = quandl.ApiConfig.api_key"
   ]
  },
  {
   "cell_type": "code",
   "execution_count": 34,
   "metadata": {
    "ExecuteTime": {
     "end_time": "2019-09-27T04:43:36.610180Z",
     "start_time": "2019-09-27T04:43:36.124411Z"
    }
   },
   "outputs": [
    {
     "name": "stdout",
     "output_type": "stream",
     "text": [
      "{'dataset': {'id': 47038352, 'dataset_code': 'C36159_FOR10K', 'database_code': 'ZILLOW', 'name': 'Zillow Home Value Index (City): Foreclosures Per 10,000 Homes - Phoenix, AZ', 'description': \"The Zillow Home Value Index is Zillow's estimate of the median market value of foreclosures per 10,000 homes within the city of Phoenix, AZ. This data is calculated by Zillow Real Estate Research (www.zillow.com/research) using their database of 110 million homes.\", 'refreshed_at': '2019-09-23T08:43:58.010Z', 'newest_available_date': '2018-10-31', 'oldest_available_date': '2008-01-31', 'column_names': ['Date', 'Value'], 'frequency': 'monthly', 'type': 'Time Series', 'premium': False, 'limit': None, 'transform': None, 'column_index': None, 'start_date': '2008-01-31', 'end_date': '2018-10-31', 'data': [['2018-10-31', 0.38], ['2018-09-30', 0.26], ['2018-08-31', 0.41], ['2018-07-31', 0.55], ['2018-06-30', 0.29], ['2018-05-31', 0.43], ['2018-04-30', 0.38], ['2018-03-31', 0.69], ['2018-02-28', 0.72], ['2018-01-31', 0.62], ['2017-12-31', 0.76], ['2017-11-30', 1.31], ['2017-10-31', 0.72], ['2017-09-30', 0.5], ['2017-08-31', 0.72], ['2017-07-31', 0.41], ['2017-06-30', 0.41], ['2017-05-31', 0.46], ['2017-04-30', 0.46], ['2017-03-31', 0.62], ['2017-02-28', 0.6], ['2017-01-31', 0.7], ['2016-12-31', 0.91], ['2016-11-30', 1.06], ['2016-10-31', 0.84], ['2016-09-30', 1.01], ['2016-08-31', 1.49], ['2016-07-31', 1.32], ['2016-06-30', 1.35], ['2016-05-31', 1.01], ['2016-04-30', 1.01], ['2016-03-31', 1.35], ['2016-02-29', 1.08], ['2016-01-31', 1.25], ['2015-12-31', 1.16], ['2015-11-30', 0.89], ['2015-10-31', 1.45], ['2015-09-30', 1.01], ['2015-08-31', 0.82], ['2015-07-31', 1.18], ['2015-06-30', 0.89], ['2015-05-31', 0.89], ['2015-04-30', 1.28], ['2015-03-31', 1.55], ['2015-02-28', 1.18], ['2015-01-31', 1.5], ['2014-12-31', 1.38], ['2014-11-30', 1.26], ['2014-10-31', 1.62], ['2014-09-30', 1.4], ['2014-08-31', 1.52], ['2014-07-31', 2.22], ['2014-06-30', 1.67], ['2014-05-31', 1.64], ['2014-04-30', 1.84], ['2014-03-31', 1.96], ['2014-02-28', 1.5], ['2014-01-31', 2.22], ['2013-12-31', 2.88], ['2013-11-30', 1.79], ['2013-10-31', 2.35], ['2013-09-30', 2.25], ['2013-08-31', 2.35], ['2013-07-31', 1.91], ['2013-06-30', 2.35], ['2013-05-31', 2.39], ['2013-04-30', 3.87], ['2013-03-31', 3.43], ['2013-02-28', 3.7], ['2013-01-31', 4.33], ['2012-12-31', 3.99], ['2012-11-30', 4.01], ['2012-10-31', 5.44], ['2012-09-30', 5.63], ['2012-08-31', 6.94], ['2012-07-31', 6.09], ['2012-06-30', 5.34], ['2012-05-31', 6.62], ['2012-04-30', 4.79], ['2012-03-31', 7.25], ['2012-02-29', 5.56], ['2012-01-31', 8.27], ['2011-12-31', 8.03], ['2011-11-30', 6.79], ['2011-10-31', 6.55], ['2011-09-30', 8.9], ['2011-08-31', 10.03], ['2011-07-31', 10.86], ['2011-06-30', 12.4], ['2011-05-31', 14.41], ['2011-04-30', 14.97], ['2011-03-31', 18.59], ['2011-02-28', 16.54], ['2011-01-31', 20.6], ['2010-12-31', 16.54], ['2010-11-30', 14.41], ['2010-10-31', 19.78], ['2010-09-30', 21.81], ['2010-08-31', 21.16], ['2010-07-31', 20.12], ['2010-06-30', 18.33], ['2010-05-31', 16.61], ['2010-04-30', 17.96], ['2010-03-31', 19.44], ['2010-02-28', 17.0], ['2010-01-31', 17.24], ['2009-12-31', 18.11], ['2009-11-30', 15.28], ['2009-10-31', 19.15], ['2009-09-30', 17.55], ['2009-08-31', 16.37], ['2009-07-31', 23.52], ['2009-06-30', 21.3], ['2009-05-31', 17.12], ['2009-04-30', 14.26], ['2009-03-31', 15.72], ['2009-02-28', 23.16], ['2009-01-31', 21.61], ['2008-12-31', 18.86], ['2008-11-30', 18.88], ['2008-10-31', 22.2], ['2008-09-30', 19.51], ['2008-08-31', 17.92], ['2008-07-31', 19.41], ['2008-06-30', 15.06], ['2008-05-31', 14.8], ['2008-04-30', 13.97], ['2008-03-31', 9.89], ['2008-02-29', 9.26], ['2008-01-31', 8.17]], 'collapse': None, 'order': None, 'database_id': 15274}}\n"
     ]
    }
   ],
   "source": [
    "url = f\"https://www.quandl.com/api/v3/datasets/ZILLOW/C36159_FOR10K.json?api_key={api_key}\"\n",
    "homes = requests.get(url).json()\n",
    "print(homes)"
   ]
  },
  {
   "cell_type": "code",
   "execution_count": 32,
   "metadata": {
    "ExecuteTime": {
     "end_time": "2019-09-27T04:32:31.957257Z",
     "start_time": "2019-09-27T04:32:31.529811Z"
    }
   },
   "outputs": [
    {
     "data": {
      "text/html": [
       "<div>\n",
       "<style scoped>\n",
       "    .dataframe tbody tr th:only-of-type {\n",
       "        vertical-align: middle;\n",
       "    }\n",
       "\n",
       "    .dataframe tbody tr th {\n",
       "        vertical-align: top;\n",
       "    }\n",
       "\n",
       "    .dataframe thead th {\n",
       "        text-align: right;\n",
       "    }\n",
       "</style>\n",
       "<table border=\"1\" class=\"dataframe\">\n",
       "  <thead>\n",
       "    <tr style=\"text-align: right;\">\n",
       "      <th></th>\n",
       "      <th>Value</th>\n",
       "    </tr>\n",
       "    <tr>\n",
       "      <th>Date</th>\n",
       "      <th></th>\n",
       "    </tr>\n",
       "  </thead>\n",
       "  <tbody>\n",
       "    <tr>\n",
       "      <th>2008-01-31</th>\n",
       "      <td>8.17</td>\n",
       "    </tr>\n",
       "    <tr>\n",
       "      <th>2008-02-29</th>\n",
       "      <td>9.26</td>\n",
       "    </tr>\n",
       "    <tr>\n",
       "      <th>2008-03-31</th>\n",
       "      <td>9.89</td>\n",
       "    </tr>\n",
       "    <tr>\n",
       "      <th>2008-04-30</th>\n",
       "      <td>13.97</td>\n",
       "    </tr>\n",
       "    <tr>\n",
       "      <th>2008-05-31</th>\n",
       "      <td>14.80</td>\n",
       "    </tr>\n",
       "  </tbody>\n",
       "</table>\n",
       "</div>"
      ],
      "text/plain": [
       "            Value\n",
       "Date             \n",
       "2008-01-31   8.17\n",
       "2008-02-29   9.26\n",
       "2008-03-31   9.89\n",
       "2008-04-30  13.97\n",
       "2008-05-31  14.80"
      ]
     },
     "execution_count": 32,
     "metadata": {},
     "output_type": "execute_result"
    }
   ],
   "source": [
    "data = quandl.get(\"ZILLOW/C36159_FOR10K\", authtoken=api_key)\n",
    "data.head()"
   ]
  },
  {
   "cell_type": "code",
   "execution_count": 33,
   "metadata": {
    "ExecuteTime": {
     "end_time": "2019-09-27T04:32:33.848880Z",
     "start_time": "2019-09-27T04:32:33.524592Z"
    }
   },
   "outputs": [
    {
     "data": {
      "text/plain": [
       "<matplotlib.axes._subplots.AxesSubplot at 0x285b3b6d470>"
      ]
     },
     "execution_count": 33,
     "metadata": {},
     "output_type": "execute_result"
    },
    {
     "data": {
      "image/png": "[encoded data removed]",
      "text/plain": [
       "<Figure size 864x288 with 1 Axes>"
      ]
     },
     "metadata": {
      "needs_background": "light"
     },
     "output_type": "display_data"
    }
   ],
   "source": [
    "figs = plt.figure(figsize=(12,4))\n",
    "ax0 = figs.add_subplot(121)\n",
    "data.plot(legend=False,ax=ax0)\n",
    "#data.plot(x=\"Date\",y=\"Value\")"
   ]
  },
  {
   "cell_type": "code",
   "execution_count": null,
   "metadata": {},
   "outputs": [],
   "source": []
  }
 ],
 "metadata": {
  "kernelspec": {
   "display_name": "Python 3",
   "language": "python",
   "name": "python3"
  },
  "language_info": {
   "codemirror_mode": {
    "name": "ipython",
    "version": 3
   },
   "file_extension": ".py",
   "mimetype": "text/x-python",
   "name": "python",
   "nbconvert_exporter": "python",
   "pygments_lexer": "ipython3",
   "version": "3.7.3"
  },
  "varInspector": {
   "cols": {
    "lenName": 16,
    "lenType": 16,
    "lenVar": 40
   },
   "kernels_config": {
    "python": {
     "delete_cmd_postfix": "",
     "delete_cmd_prefix": "del ",
     "library": "var_list.py",
     "varRefreshCmd": "print(var_dic_list())"
    },
    "r": {
     "delete_cmd_postfix": ") ",
     "delete_cmd_prefix": "rm(",
     "library": "var_list.r",
     "varRefreshCmd": "cat(var_dic_list()) "
    }
   },
   "types_to_exclude": [
    "module",
    "function",
    "builtin_function_or_method",
    "instance",
    "_Feature"
   ],
   "window_display": false
  }
 },
 "nbformat": 4,
 "nbformat_minor": 2
}
