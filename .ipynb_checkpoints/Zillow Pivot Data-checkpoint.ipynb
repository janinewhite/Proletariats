{
 "cells": [
  {
   "cell_type": "code",
   "execution_count": 1,
   "metadata": {
    "ExecuteTime": {
     "end_time": "2019-09-28T21:28:13.400010Z",
     "start_time": "2019-09-28T21:28:12.364627Z"
    }
   },
   "outputs": [],
   "source": [
    "#Import Dependencies\n",
    "import requests\n",
    "import pandas as pd\n",
    "import quandl\n",
    "\n",
    "#Get Quandl API key\n",
    "quandl.read_key()\n",
    "api_key = quandl.ApiConfig.api_key"
   ]
  },
  {
   "cell_type": "code",
   "execution_count": 2,
   "metadata": {
    "ExecuteTime": {
     "end_time": "2019-09-28T21:28:13.411015Z",
     "start_time": "2019-09-28T21:28:13.406993Z"
    }
   },
   "outputs": [],
   "source": [
    "def make_url(code):\n",
    "    return f\"https://www.quandl.com/api/v3/datasets/ZILLOW/{code}.json?api_key={api_key}\""
   ]
  },
  {
   "cell_type": "code",
   "execution_count": 3,
   "metadata": {
    "ExecuteTime": {
     "end_time": "2019-09-28T21:28:14.126258Z",
     "start_time": "2019-09-28T21:28:14.026660Z"
    }
   },
   "outputs": [
    {
     "data": {
      "text/html": [
       "<div>\n",
       "<style scoped>\n",
       "    .dataframe tbody tr th:only-of-type {\n",
       "        vertical-align: middle;\n",
       "    }\n",
       "\n",
       "    .dataframe tbody tr th {\n",
       "        vertical-align: top;\n",
       "    }\n",
       "\n",
       "    .dataframe thead th {\n",
       "        text-align: right;\n",
       "    }\n",
       "</style>\n",
       "<table border=\"1\" class=\"dataframe\">\n",
       "  <thead>\n",
       "    <tr style=\"text-align: right;\">\n",
       "      <th></th>\n",
       "      <th>code</th>\n",
       "      <th>description</th>\n",
       "      <th>url</th>\n",
       "    </tr>\n",
       "  </thead>\n",
       "  <tbody>\n",
       "    <tr>\n",
       "      <th>0</th>\n",
       "      <td>C36159_BSICG</td>\n",
       "      <td>median market value of buyer seller index cross</td>\n",
       "      <td>https://www.quandl.com/api/v3/datasets/ZILLOW/...</td>\n",
       "    </tr>\n",
       "    <tr>\n",
       "      <th>1</th>\n",
       "      <td>C36159_BSICT</td>\n",
       "      <td>median market value of buyer seller index cros...</td>\n",
       "      <td>https://www.quandl.com/api/v3/datasets/ZILLOW/...</td>\n",
       "    </tr>\n",
       "    <tr>\n",
       "      <th>2</th>\n",
       "      <td>C36159_DOZ</td>\n",
       "      <td>median market value of days on zillow</td>\n",
       "      <td>https://www.quandl.com/api/v3/datasets/ZILLOW/...</td>\n",
       "    </tr>\n",
       "    <tr>\n",
       "      <th>3</th>\n",
       "      <td>C36159_FOR10K</td>\n",
       "      <td>median market value of foreclosures per 10,000...</td>\n",
       "      <td>https://www.quandl.com/api/v3/datasets/ZILLOW/...</td>\n",
       "    </tr>\n",
       "    <tr>\n",
       "      <th>4</th>\n",
       "      <td>C36159_MDLNSAH</td>\n",
       "      <td>median market value of median daily listings -...</td>\n",
       "      <td>https://www.quandl.com/api/v3/datasets/ZILLOW/...</td>\n",
       "    </tr>\n",
       "    <tr>\n",
       "      <th>5</th>\n",
       "      <td>C36159_MDLSAAH</td>\n",
       "      <td>median market value of median daily listings -...</td>\n",
       "      <td>https://www.quandl.com/api/v3/datasets/ZILLOW/...</td>\n",
       "    </tr>\n",
       "    <tr>\n",
       "      <th>6</th>\n",
       "      <td>C36159_MLNSAH</td>\n",
       "      <td>median market value of monthly listings - nsa ...</td>\n",
       "      <td>https://www.quandl.com/api/v3/datasets/ZILLOW/...</td>\n",
       "    </tr>\n",
       "    <tr>\n",
       "      <th>7</th>\n",
       "      <td>C36159_MLSAAH</td>\n",
       "      <td>median market value of monthly listings - sa -...</td>\n",
       "      <td>https://www.quandl.com/api/v3/datasets/ZILLOW/...</td>\n",
       "    </tr>\n",
       "    <tr>\n",
       "      <th>8</th>\n",
       "      <td>C36159_MTURN</td>\n",
       "      <td>median market value of monthly turnover</td>\n",
       "      <td>https://www.quandl.com/api/v3/datasets/ZILLOW/...</td>\n",
       "    </tr>\n",
       "    <tr>\n",
       "      <th>9</th>\n",
       "      <td>C36159_NMLNSAH</td>\n",
       "      <td>median market value of new monthly listings - ...</td>\n",
       "      <td>https://www.quandl.com/api/v3/datasets/ZILLOW/...</td>\n",
       "    </tr>\n",
       "    <tr>\n",
       "      <th>10</th>\n",
       "      <td>C36159_NMLSAAH</td>\n",
       "      <td>median market value of new monthly listings - ...</td>\n",
       "      <td>https://www.quandl.com/api/v3/datasets/ZILLOW/...</td>\n",
       "    </tr>\n",
       "    <tr>\n",
       "      <th>11</th>\n",
       "      <td>C36159_SC</td>\n",
       "      <td>median market value of sales counts</td>\n",
       "      <td>https://www.quandl.com/api/v3/datasets/ZILLOW/...</td>\n",
       "    </tr>\n",
       "    <tr>\n",
       "      <th>12</th>\n",
       "      <td>C36159_SCBT</td>\n",
       "      <td>median market value of sales counts - bottom tier</td>\n",
       "      <td>https://www.quandl.com/api/v3/datasets/ZILLOW/...</td>\n",
       "    </tr>\n",
       "    <tr>\n",
       "      <th>13</th>\n",
       "      <td>C36159_SCMT</td>\n",
       "      <td>median market value of sales counts - middle tier</td>\n",
       "      <td>https://www.quandl.com/api/v3/datasets/ZILLOW/...</td>\n",
       "    </tr>\n",
       "    <tr>\n",
       "      <th>14</th>\n",
       "      <td>C36159_SCSA</td>\n",
       "      <td>median market value of sales counts - sa</td>\n",
       "      <td>https://www.quandl.com/api/v3/datasets/ZILLOW/...</td>\n",
       "    </tr>\n",
       "    <tr>\n",
       "      <th>15</th>\n",
       "      <td>C36159_SCSABT</td>\n",
       "      <td>median market value of sales counts - sa - bot...</td>\n",
       "      <td>https://www.quandl.com/api/v3/datasets/ZILLOW/...</td>\n",
       "    </tr>\n",
       "    <tr>\n",
       "      <th>16</th>\n",
       "      <td>C36159_SCSAMT</td>\n",
       "      <td>median market value of sales counts - sa - mid...</td>\n",
       "      <td>https://www.quandl.com/api/v3/datasets/ZILLOW/...</td>\n",
       "    </tr>\n",
       "    <tr>\n",
       "      <th>17</th>\n",
       "      <td>C36159_SCSATT</td>\n",
       "      <td>median market value of sales counts - sa - top...</td>\n",
       "      <td>https://www.quandl.com/api/v3/datasets/ZILLOW/...</td>\n",
       "    </tr>\n",
       "    <tr>\n",
       "      <th>18</th>\n",
       "      <td>C36159_SCTT</td>\n",
       "      <td>median market value of sales counts - top tier</td>\n",
       "      <td>https://www.quandl.com/api/v3/datasets/ZILLOW/...</td>\n",
       "    </tr>\n",
       "    <tr>\n",
       "      <th>19</th>\n",
       "      <td>C36159_SP</td>\n",
       "      <td>median market value of sales prices</td>\n",
       "      <td>https://www.quandl.com/api/v3/datasets/ZILLOW/...</td>\n",
       "    </tr>\n",
       "    <tr>\n",
       "      <th>20</th>\n",
       "      <td>C36159_SPBT</td>\n",
       "      <td>median market value of sales counts - bottom tier</td>\n",
       "      <td>https://www.quandl.com/api/v3/datasets/ZILLOW/...</td>\n",
       "    </tr>\n",
       "    <tr>\n",
       "      <th>21</th>\n",
       "      <td>C36159_SPFS</td>\n",
       "      <td>median market value of sales previously forecl...</td>\n",
       "      <td>https://www.quandl.com/api/v3/datasets/ZILLOW/...</td>\n",
       "    </tr>\n",
       "    <tr>\n",
       "      <th>22</th>\n",
       "      <td>C36159_SPMT</td>\n",
       "      <td>median market value of sales prices - middle tier</td>\n",
       "      <td>https://www.quandl.com/api/v3/datasets/ZILLOW/...</td>\n",
       "    </tr>\n",
       "    <tr>\n",
       "      <th>23</th>\n",
       "      <td>C36159_SPTT</td>\n",
       "      <td>median market value of sales prices - top tier</td>\n",
       "      <td>https://www.quandl.com/api/v3/datasets/ZILLOW/...</td>\n",
       "    </tr>\n",
       "    <tr>\n",
       "      <th>24</th>\n",
       "      <td>C36159_STLR</td>\n",
       "      <td>median market value of sale to list ratio</td>\n",
       "      <td>https://www.quandl.com/api/v3/datasets/ZILLOW/...</td>\n",
       "    </tr>\n",
       "    <tr>\n",
       "      <th>25</th>\n",
       "      <td>C4_HSAFRAL</td>\n",
       "      <td>median market value of  home sold as foreclosu...</td>\n",
       "      <td>https://www.quandl.com/api/v3/datasets/ZILLOW/...</td>\n",
       "    </tr>\n",
       "    <tr>\n",
       "      <th>26</th>\n",
       "      <td>C4_MSPAH</td>\n",
       "      <td>median market value of median sold price - all...</td>\n",
       "      <td>https://www.quandl.com/api/v3/datasets/ZILLOW/...</td>\n",
       "    </tr>\n",
       "    <tr>\n",
       "      <th>27</th>\n",
       "      <td>C4_MSPFAH</td>\n",
       "      <td>median market value of median sold price per s...</td>\n",
       "      <td>https://www.quandl.com/api/v3/datasets/ZILLOW/...</td>\n",
       "    </tr>\n",
       "    <tr>\n",
       "      <th>28</th>\n",
       "      <td>C4_MSPFCO</td>\n",
       "      <td>median market value of median sold price per s...</td>\n",
       "      <td>https://www.quandl.com/api/v3/datasets/ZILLOW/...</td>\n",
       "    </tr>\n",
       "    <tr>\n",
       "      <th>29</th>\n",
       "      <td>C4_MSPFSF</td>\n",
       "      <td>median market value of median sold price per s...</td>\n",
       "      <td>https://www.quandl.com/api/v3/datasets/ZILLOW/...</td>\n",
       "    </tr>\n",
       "    <tr>\n",
       "      <th>30</th>\n",
       "      <td>C4_PTPFHAH</td>\n",
       "      <td>median market value of percent transactions th...</td>\n",
       "      <td>https://www.quandl.com/api/v3/datasets/ZILLOW/...</td>\n",
       "    </tr>\n",
       "    <tr>\n",
       "      <th>31</th>\n",
       "      <td>C4_TURNAH</td>\n",
       "      <td>median market value of turnover - all homes</td>\n",
       "      <td>https://www.quandl.com/api/v3/datasets/ZILLOW/...</td>\n",
       "    </tr>\n",
       "    <tr>\n",
       "      <th>32</th>\n",
       "      <td>C4_USRAH</td>\n",
       "      <td>median market value of unsold renos - all homes</td>\n",
       "      <td>https://www.quandl.com/api/v3/datasets/ZILLOW/...</td>\n",
       "    </tr>\n",
       "  </tbody>\n",
       "</table>\n",
       "</div>"
      ],
      "text/plain": [
       "              code                                        description  \\\n",
       "0     C36159_BSICG    median market value of buyer seller index cross   \n",
       "1     C36159_BSICT  median market value of buyer seller index cros...   \n",
       "2       C36159_DOZ              median market value of days on zillow   \n",
       "3    C36159_FOR10K  median market value of foreclosures per 10,000...   \n",
       "4   C36159_MDLNSAH  median market value of median daily listings -...   \n",
       "5   C36159_MDLSAAH  median market value of median daily listings -...   \n",
       "6    C36159_MLNSAH  median market value of monthly listings - nsa ...   \n",
       "7    C36159_MLSAAH  median market value of monthly listings - sa -...   \n",
       "8     C36159_MTURN            median market value of monthly turnover   \n",
       "9   C36159_NMLNSAH  median market value of new monthly listings - ...   \n",
       "10  C36159_NMLSAAH  median market value of new monthly listings - ...   \n",
       "11       C36159_SC                median market value of sales counts   \n",
       "12     C36159_SCBT  median market value of sales counts - bottom tier   \n",
       "13     C36159_SCMT  median market value of sales counts - middle tier   \n",
       "14     C36159_SCSA           median market value of sales counts - sa   \n",
       "15   C36159_SCSABT  median market value of sales counts - sa - bot...   \n",
       "16   C36159_SCSAMT  median market value of sales counts - sa - mid...   \n",
       "17   C36159_SCSATT  median market value of sales counts - sa - top...   \n",
       "18     C36159_SCTT     median market value of sales counts - top tier   \n",
       "19       C36159_SP                median market value of sales prices   \n",
       "20     C36159_SPBT  median market value of sales counts - bottom tier   \n",
       "21     C36159_SPFS  median market value of sales previously forecl...   \n",
       "22     C36159_SPMT  median market value of sales prices - middle tier   \n",
       "23     C36159_SPTT     median market value of sales prices - top tier   \n",
       "24     C36159_STLR          median market value of sale to list ratio   \n",
       "25      C4_HSAFRAL  median market value of  home sold as foreclosu...   \n",
       "26        C4_MSPAH  median market value of median sold price - all...   \n",
       "27       C4_MSPFAH  median market value of median sold price per s...   \n",
       "28       C4_MSPFCO  median market value of median sold price per s...   \n",
       "29       C4_MSPFSF  median market value of median sold price per s...   \n",
       "30      C4_PTPFHAH  median market value of percent transactions th...   \n",
       "31       C4_TURNAH        median market value of turnover - all homes   \n",
       "32        C4_USRAH    median market value of unsold renos - all homes   \n",
       "\n",
       "                                                  url  \n",
       "0   https://www.quandl.com/api/v3/datasets/ZILLOW/...  \n",
       "1   https://www.quandl.com/api/v3/datasets/ZILLOW/...  \n",
       "2   https://www.quandl.com/api/v3/datasets/ZILLOW/...  \n",
       "3   https://www.quandl.com/api/v3/datasets/ZILLOW/...  \n",
       "4   https://www.quandl.com/api/v3/datasets/ZILLOW/...  \n",
       "5   https://www.quandl.com/api/v3/datasets/ZILLOW/...  \n",
       "6   https://www.quandl.com/api/v3/datasets/ZILLOW/...  \n",
       "7   https://www.quandl.com/api/v3/datasets/ZILLOW/...  \n",
       "8   https://www.quandl.com/api/v3/datasets/ZILLOW/...  \n",
       "9   https://www.quandl.com/api/v3/datasets/ZILLOW/...  \n",
       "10  https://www.quandl.com/api/v3/datasets/ZILLOW/...  \n",
       "11  https://www.quandl.com/api/v3/datasets/ZILLOW/...  \n",
       "12  https://www.quandl.com/api/v3/datasets/ZILLOW/...  \n",
       "13  https://www.quandl.com/api/v3/datasets/ZILLOW/...  \n",
       "14  https://www.quandl.com/api/v3/datasets/ZILLOW/...  \n",
       "15  https://www.quandl.com/api/v3/datasets/ZILLOW/...  \n",
       "16  https://www.quandl.com/api/v3/datasets/ZILLOW/...  \n",
       "17  https://www.quandl.com/api/v3/datasets/ZILLOW/...  \n",
       "18  https://www.quandl.com/api/v3/datasets/ZILLOW/...  \n",
       "19  https://www.quandl.com/api/v3/datasets/ZILLOW/...  \n",
       "20  https://www.quandl.com/api/v3/datasets/ZILLOW/...  \n",
       "21  https://www.quandl.com/api/v3/datasets/ZILLOW/...  \n",
       "22  https://www.quandl.com/api/v3/datasets/ZILLOW/...  \n",
       "23  https://www.quandl.com/api/v3/datasets/ZILLOW/...  \n",
       "24  https://www.quandl.com/api/v3/datasets/ZILLOW/...  \n",
       "25  https://www.quandl.com/api/v3/datasets/ZILLOW/...  \n",
       "26  https://www.quandl.com/api/v3/datasets/ZILLOW/...  \n",
       "27  https://www.quandl.com/api/v3/datasets/ZILLOW/...  \n",
       "28  https://www.quandl.com/api/v3/datasets/ZILLOW/...  \n",
       "29  https://www.quandl.com/api/v3/datasets/ZILLOW/...  \n",
       "30  https://www.quandl.com/api/v3/datasets/ZILLOW/...  \n",
       "31  https://www.quandl.com/api/v3/datasets/ZILLOW/...  \n",
       "32  https://www.quandl.com/api/v3/datasets/ZILLOW/...  "
      ]
     },
     "execution_count": 3,
     "metadata": {},
     "output_type": "execute_result"
    }
   ],
   "source": [
    "#Get Zillow codes\n",
    "zillow_codes_file = \"Phoenix_Zillow_Codes.xlsx\"\n",
    "Zillow_data_df = pd.read_excel(zillow_codes_file)\n",
    "codesdf = Zillow_data_df.loc[:,[\"code\",\"description\"]]\n",
    "codesdf[\"url\"] = codesdf[\"code\"].apply(make_url)\n",
    "codesdf"
   ]
  },
  {
   "cell_type": "code",
   "execution_count": null,
   "metadata": {
    "ExecuteTime": {
     "end_time": "2019-09-28T21:28:27.986107Z",
     "start_time": "2019-09-28T21:28:18.098566Z"
    }
   },
   "outputs": [],
   "source": [
    "#Get Data\n",
    "urls = codesdf[\"url\"]\n",
    "datasets = []\n",
    "for url in urls:\n",
    "    response = requests.get(url).json()\n",
    "    responsedf = pd.DataFrame(response)\n",
    "    datasets.append(responsedf)\n"
   ]
  },
  {
   "cell_type": "code",
   "execution_count": null,
   "metadata": {
    "ExecuteTime": {
     "end_time": "2019-09-28T21:28:28.276207Z",
     "start_time": "2019-09-28T21:28:28.271221Z"
    }
   },
   "outputs": [],
   "source": [
    "def get_dataset(index):\n",
    "    code_value = codesdf[\"code\"][index]\n",
    "    code_label = codesdf[\"description\"][index]\n",
    "    data = quandl.get(f\"ZILLOW/{code_value}\", authtoken=api_key)\n",
    "    data.reset_index(level=0, inplace=True)\n",
    "    data[\"Code\"]= code_value\n",
    "    data[\"Label\"] = code_label\n",
    "    return data"
   ]
  },
  {
   "cell_type": "code",
   "execution_count": null,
   "metadata": {
    "ExecuteTime": {
     "end_time": "2019-09-28T21:28:28.942093Z",
     "start_time": "2019-09-28T21:28:28.550118Z"
    }
   },
   "outputs": [],
   "source": [
    "num_codes = len(codesdf)\n",
    "print(f\"Number of datasets: {num_codes}\")\n",
    "#Get first dataset\n",
    "data = get_dataset(0)\n",
    "data.head()"
   ]
  },
  {
   "cell_type": "code",
   "execution_count": null,
   "metadata": {
    "ExecuteTime": {
     "end_time": "2019-09-28T21:28:38.228576Z",
     "start_time": "2019-09-28T21:28:29.518065Z"
    }
   },
   "outputs": [],
   "source": [
    "#Append remaining datasets\n",
    "for code_index in range(1,num_codes):\n",
    "    new_data = get_dataset(code_index)\n",
    "    #print(new_data)\n",
    "    data = data.append(new_data)\n",
    "    print(f\"{code_index}: {codesdf['code'][code_index]} {len(new_data)} {len(data)}\")\n",
    "    "
   ]
  },
  {
   "cell_type": "code",
   "execution_count": null,
   "metadata": {
    "ExecuteTime": {
     "end_time": "2019-09-28T19:53:57.449865Z",
     "start_time": "2019-09-28T19:53:57.386036Z"
    }
   },
   "outputs": [],
   "source": [
    "#Export Data\n",
    "data.to_csv(\"Zillow_data.csv\")"
   ]
  },
  {
   "cell_type": "code",
   "execution_count": null,
   "metadata": {
    "ExecuteTime": {
     "end_time": "2019-09-28T21:28:54.789253Z",
     "start_time": "2019-09-28T21:28:54.729418Z"
    }
   },
   "outputs": [],
   "source": [
    "data_pivot = data.pivot_table(index=\"Date\",columns=[\"Code\"],values=[\"Value\"],aggfunc='mean')\n",
    "data_pivot"
   ]
  },
  {
   "cell_type": "code",
   "execution_count": null,
   "metadata": {
    "ExecuteTime": {
     "end_time": "2019-09-28T21:30:58.715083Z",
     "start_time": "2019-09-28T21:30:58.678181Z"
    }
   },
   "outputs": [],
   "source": [
    "data_pivot.to_csv(\"Zillow_pivot.csv\")"
   ]
  },
  {
   "cell_type": "markdown",
   "metadata": {
    "ExecuteTime": {
     "end_time": "2019-09-28T21:35:48.337846Z",
     "start_time": "2019-09-28T21:35:48.334822Z"
    }
   },
   "source": [
    "Data cleaned manually to fix headers"
   ]
  },
  {
   "cell_type": "code",
   "execution_count": null,
   "metadata": {},
   "outputs": [],
   "source": []
  },
  {
   "cell_type": "code",
   "execution_count": null,
   "metadata": {},
   "outputs": [],
   "source": []
  },
  {
   "cell_type": "code",
   "execution_count": null,
   "metadata": {},
   "outputs": [],
   "source": []
  }
 ],
 "metadata": {
  "kernelspec": {
   "display_name": "Python 3",
   "language": "python",
   "name": "python3"
  },
  "language_info": {
   "codemirror_mode": {
    "name": "ipython",
    "version": 3
   },
   "file_extension": ".py",
   "mimetype": "text/x-python",
   "name": "python",
   "nbconvert_exporter": "python",
   "pygments_lexer": "ipython3",
   "version": "3.7.3"
  },
  "varInspector": {
   "cols": {
    "lenName": 16,
    "lenType": 16,
    "lenVar": 40
   },
   "kernels_config": {
    "python": {
     "delete_cmd_postfix": "",
     "delete_cmd_prefix": "del ",
     "library": "var_list.py",
     "varRefreshCmd": "print(var_dic_list())"
    },
    "r": {
     "delete_cmd_postfix": ") ",
     "delete_cmd_prefix": "rm(",
     "library": "var_list.r",
     "varRefreshCmd": "cat(var_dic_list()) "
    }
   },
   "types_to_exclude": [
    "module",
    "function",
    "builtin_function_or_method",
    "instance",
    "_Feature"
   ],
   "window_display": false
  }
 },
 "nbformat": 4,
 "nbformat_minor": 2
}
